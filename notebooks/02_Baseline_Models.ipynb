{
 "cells": [
  {
   "cell_type": "code",
   "execution_count": 1,
   "id": "478fba8f-3d70-41a0-a3a2-c68148c6109e",
   "metadata": {},
   "outputs": [
    {
     "name": "stdout",
     "output_type": "stream",
     "text": [
      "All libraries imported successfully!\n",
      "Working Directory: C:\\Users\\Ashutosh\\Documents\\Projects\\beyond-smote-evaluation\\notebooks\n",
      "Random Seed: 42\n"
     ]
    }
   ],
   "source": [
    "# Cell 1: Importing Required Libraries\n",
    "\n",
    "import sys\n",
    "import numpy as np\n",
    "import pandas as pd\n",
    "import matplotlib.pyplot as plt\n",
    "import seaborn as sns\n",
    "from pathlib import Path\n",
    "import json\n",
    "import warnings\n",
    "warnings.filterwarnings('ignore')\n",
    "\n",
    "# Adding src directory to path for importing custom modules\n",
    "sys.path.append('../src')\n",
    "\n",
    "# Importing custom utility functions\n",
    "from config import *\n",
    "from data_utils import retrieve_processed_datasets\n",
    "from model_utils import (\n",
    "    initialize_all_models,\n",
    "    train_single_model,\n",
    "    evaluate_model_predictions,\n",
    "    perform_cross_validation,\n",
    "    extract_feature_importance,\n",
    "    save_trained_model,\n",
    "    create_model_comparison_table,\n",
    "    perform_cv_all_models\n",
    ")\n",
    "from evaluation_utils import (\n",
    "    calculate_all_metrics,\n",
    "    create_confusion_matrix,\n",
    "    plot_roc_curve,\n",
    "    plot_precision_recall_curve,\n",
    "    compare_multiple_roc_curves,\n",
    "    generate_classification_report,\n",
    "    create_metrics_summary_table\n",
    ")\n",
    "from visualization import plot_feature_importance_horizontal\n",
    "\n",
    "# Setting visualization style\n",
    "plt.style.use('seaborn-v0_8-darkgrid')\n",
    "sns.set_palette(\"Set2\")\n",
    "\n",
    "# Display settings\n",
    "pd.set_option('display.max_columns', None)\n",
    "pd.set_option('display.precision', 4)\n",
    "\n",
    "print(\"All libraries imported successfully!\")\n",
    "print(f\"Working Directory: {Path.cwd()}\")\n",
    "print(f\"Random Seed: {SEED_VALUE}\")"
   ]
  },
  {
   "cell_type": "code",
   "execution_count": 2,
   "id": "a93bf66d-2839-428f-aa25-e66819bdcb7c",
   "metadata": {},
   "outputs": [
    {
     "name": "stdout",
     "output_type": "stream",
     "text": [
      "LOADING PROCESSED DATA...\n",
      "Loading processed data from C:\\Users\\Ashutosh\\Documents\\Projects\\beyond-smote-evaluation\\data\\processed...\n",
      "Datasets loaded successfully\n",
      "Training shape: (800000, 28)\n",
      "Testing shape: (200000, 28)\n",
      "\n",
      "Data loaded successfully!\n",
      "Training set shape: (800000, 28)\n",
      "Test set shape: (200000, 28)\n",
      "\n",
      "Class Distribution in Training Set:\n",
      "  Class 1: 423,738 samples (52.97%)\n",
      "  Class 0: 376,262 samples (47.03%)\n",
      "\n",
      "Class Distribution in Test Set:\n",
      "  Class 1: 105,935 samples (52.97%)\n",
      "  Class 0: 94,065 samples (47.03%)\n",
      "\n",
      "Imbalance Ratio: 0.888:1\n"
     ]
    }
   ],
   "source": [
    "# Cell 2: Loading Processed Data from Notebook 01\n",
    "# Loading the cleaned and scaled training/test data\n",
    "\n",
    "print(\"LOADING PROCESSED DATA...\")\n",
    "\n",
    "# Loading processed datasets using utility function\n",
    "X_train, X_test, y_train, y_test = retrieve_processed_datasets(file_prefix='higgs')\n",
    "\n",
    "print(\"\\nData loaded successfully!\")\n",
    "print(f\"Training set shape: {X_train.shape}\")\n",
    "print(f\"Test set shape: {X_test.shape}\")\n",
    "\n",
    "# Verifying class distribution\n",
    "print(\"\\nClass Distribution in Training Set:\")\n",
    "train_dist = y_train.value_counts()\n",
    "for class_label, count in train_dist.items():\n",
    "    percentage = (count / len(y_train)) * 100\n",
    "    print(f\"  Class {int(class_label)}: {count:,} samples ({percentage:.2f}%)\")\n",
    "\n",
    "print(\"\\nClass Distribution in Test Set:\")\n",
    "test_dist = y_test.value_counts()\n",
    "for class_label, count in test_dist.items():\n",
    "    percentage = (count / len(y_test)) * 100\n",
    "    print(f\"  Class {int(class_label)}: {count:,} samples ({percentage:.2f}%)\")\n",
    "\n",
    "# Calculating imbalance ratio\n",
    "minority_count = train_dist.min()\n",
    "majority_count = train_dist.max()\n",
    "imbalance_ratio = minority_count / majority_count\n",
    "print(f\"\\nImbalance Ratio: {imbalance_ratio:.3f}:1\")\n"
   ]
  },
  {
   "cell_type": "code",
   "execution_count": null,
   "id": "ab79e966-24e8-4311-b305-63862db980b8",
   "metadata": {},
   "outputs": [],
   "source": []
  }
 ],
 "metadata": {
  "kernelspec": {
   "display_name": "Python 3 (ipykernel)",
   "language": "python",
   "name": "python3"
  },
  "language_info": {
   "codemirror_mode": {
    "name": "ipython",
    "version": 3
   },
   "file_extension": ".py",
   "mimetype": "text/x-python",
   "name": "python",
   "nbconvert_exporter": "python",
   "pygments_lexer": "ipython3",
   "version": "3.13.8"
  }
 },
 "nbformat": 4,
 "nbformat_minor": 5
}
