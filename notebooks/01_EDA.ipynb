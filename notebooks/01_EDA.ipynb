{
 "cells": [
  {
   "cell_type": "code",
   "execution_count": 1,
   "id": "3987835c-b1ae-4d66-8cae-3a3f34a3468a",
   "metadata": {},
   "outputs": [
    {
     "name": "stdout",
     "output_type": "stream",
     "text": [
      "All libraries imported successfully!\n",
      "Working Directory: C:\\Users\\Ashutosh\\Documents\\Projects\\beyond-smote-evaluation\\notebooks\n",
      "Random Seed: 42\n"
     ]
    }
   ],
   "source": [
    "# Cell 1: Importing Required Libraries\n",
    "\n",
    "import sys\n",
    "import pandas as pd\n",
    "import numpy as np\n",
    "import matplotlib.pyplot as plt\n",
    "import seaborn as sns\n",
    "from pathlib import Path\n",
    "import warnings\n",
    "warnings.filterwarnings('ignore')\n",
    "\n",
    "# Adding src directory to path for importing custom modules\n",
    "sys.path.append('../src')\n",
    "\n",
    "# Importing custom utility functions\n",
    "from config import *\n",
    "from data_utils import *\n",
    "from visualization import *\n",
    "\n",
    "# Setting visualization style\n",
    "plt.style.use('seaborn-v0_8-darkgrid')\n",
    "sns.set_palette(\"Set2\")\n",
    "\n",
    "# Displaying settings for better output\n",
    "pd.set_option('display.max_columns', None)\n",
    "pd.set_option('display.precision', 3)\n",
    "\n",
    "print(\"All libraries imported successfully!\")\n",
    "print(f\"Working Directory: {Path.cwd()}\")\n",
    "print(f\"Random Seed: {SEED_VALUE}\")"
   ]
  },
  {
   "cell_type": "code",
   "execution_count": 4,
   "id": "c204017a-d16b-43a8-8dbf-2162fba68869",
   "metadata": {},
   "outputs": [
    {
     "name": "stdout",
     "output_type": "stream",
     "text": [
      "HIGGS Dataset Information\n",
      "\n",
      "Dataset Citation\n",
      "Whiteson, D. (2014). HIGGS [Dataset]. UCI Machine Learning Repository.\n",
      "https://doi.org/10.24432/C5V312\n",
      "\n",
      "Original Paper:\n",
      "Baldi, P., Sadowski, P., & Whiteson, D. (2014).\n",
      "Searching for exotic particles in high-energy physics with deep learning.\n",
      "Nature Communications, 5(1), 4308.\n",
      "\n",
      "Dataset Specifications\n",
      "  • Total Rows: 11,000,000\n",
      "  • Total Features: 28\n",
      "  • Target Classes: 2 (Binary Classification)\n",
      "  • File Size: ~8 GB uncompressed\n",
      "  • Source: UCI Machine Learning Repository\n",
      "  • Domain: Particle Physics (CERN)\n",
      "  • Task: Distinguish Higgs boson signal from background\n",
      "\n",
      "Problem Statement:\n",
      "To classify particle collision events as signal (presence of Higgs boson)\n",
      "or background (absence of Higgs boson) using 28 physics-based features.\n"
     ]
    }
   ],
   "source": [
    "# Cell 2: Dataset Overview and Citation\n",
    "\n",
    "print(\"HIGGS Dataset Information\")\n",
    "print(\"\\nDataset Citation\")\n",
    "print(\"Whiteson, D. (2014). HIGGS [Dataset]. UCI Machine Learning Repository.\")\n",
    "print(\"https://doi.org/10.24432/C5V312\")\n",
    "print(\"\\nOriginal Paper:\")\n",
    "print(\"Baldi, P., Sadowski, P., & Whiteson, D. (2014).\")\n",
    "print(\"Searching for exotic particles in high-energy physics with deep learning.\")\n",
    "print(\"Nature Communications, 5(1), 4308.\")\n",
    "\n",
    "print(\"\\nDataset Specifications\")\n",
    "print(f\"  • Total Rows: {TOTAL_ROWS:,}\")\n",
    "print(f\"  • Total Features: {FEATURE_COUNT}\")\n",
    "print(f\"  • Target Classes: {CLASS_COUNT} (Binary Classification)\")\n",
    "print(f\"  • File Size: ~8 GB uncompressed\")\n",
    "print(f\"  • Source: UCI Machine Learning Repository\")\n",
    "print(f\"  • Domain: Particle Physics (CERN)\")\n",
    "print(f\"  • Task: Distinguish Higgs boson signal from background\")\n",
    "\n",
    "print(\"\\nProblem Statement:\")\n",
    "print(\"To classify particle collision events as signal (presence of Higgs boson)\")\n",
    "print(\"or background (absence of Higgs boson) using 28 physics-based features.\")"
   ]
  },
  {
   "cell_type": "code",
   "execution_count": null,
   "id": "9c795000-0c65-43ad-8ec4-a970701cabb5",
   "metadata": {},
   "outputs": [],
   "source": []
  }
 ],
 "metadata": {
  "kernelspec": {
   "display_name": "Python 3 (ipykernel)",
   "language": "python",
   "name": "python3"
  },
  "language_info": {
   "codemirror_mode": {
    "name": "ipython",
    "version": 3
   },
   "file_extension": ".py",
   "mimetype": "text/x-python",
   "name": "python",
   "nbconvert_exporter": "python",
   "pygments_lexer": "ipython3",
   "version": "3.13.8"
  }
 },
 "nbformat": 4,
 "nbformat_minor": 5
}
