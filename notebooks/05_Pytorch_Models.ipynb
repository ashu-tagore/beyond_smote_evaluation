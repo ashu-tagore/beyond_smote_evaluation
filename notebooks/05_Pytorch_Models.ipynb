{
 "cells": [
  {
   "cell_type": "code",
   "execution_count": 1,
   "id": "48cd6130-7690-4d82-8b2c-84f3e3e45d46",
   "metadata": {},
   "outputs": [
    {
     "name": "stdout",
     "output_type": "stream",
     "text": [
      "All libraries imported successfully!\n",
      "Working Directory: C:\\Users\\Ashutosh\\Documents\\Projects\\beyond-smote-evaluation\\notebooks\n",
      "Random Seed: 42\n",
      "PyTorch Version: 2.8.0+cpu\n",
      "CUDA Available: False\n"
     ]
    }
   ],
   "source": [
    "# Cell 1: Importing Required Libraries\n",
    "\n",
    "import sys\n",
    "import numpy as np\n",
    "import pandas as pd\n",
    "import matplotlib.pyplot as plt\n",
    "import seaborn as sns\n",
    "from pathlib import Path\n",
    "import json\n",
    "import time\n",
    "import warnings\n",
    "warnings.filterwarnings('ignore')\n",
    "\n",
    "# PyTorch imports\n",
    "import torch\n",
    "import torch.nn as nn\n",
    "import torch.optim as optim\n",
    "from torch.utils.data import DataLoader, TensorDataset\n",
    "\n",
    "# Adding src directory to path\n",
    "sys.path.append('../src')\n",
    "\n",
    "# Importing custom utilities\n",
    "from config import *\n",
    "from data_utils import retrieve_processed_datasets, load_resampled_data\n",
    "from pytorch_models import (\n",
    "    BatchNormClassifier,\n",
    "    WeightedLossClassifier,\n",
    "    calculate_pos_weight,\n",
    "    prepare_data_loaders,\n",
    "    train_pytorch_model,\n",
    "    evaluate_pytorch_model,\n",
    "    save_pytorch_model,\n",
    "    load_pytorch_model\n",
    ")\n",
    "from evaluation_utils import (\n",
    "    calculate_all_metrics,\n",
    "    create_confusion_matrix,\n",
    "    plot_roc_curve,\n",
    "    plot_precision_recall_curve\n",
    ")\n",
    "\n",
    "# Setting visualization style\n",
    "plt.style.use('seaborn-v0_8-darkgrid')\n",
    "sns.set_palette(\"Set2\")\n",
    "\n",
    "# Display settings\n",
    "pd.set_option('display.max_columns', None)\n",
    "pd.set_option('display.precision', 4)\n",
    "\n",
    "# Setting PyTorch random seed for reproducibility\n",
    "torch.manual_seed(SEED_VALUE)\n",
    "if torch.cuda.is_available():\n",
    "    torch.cuda.manual_seed(SEED_VALUE)\n",
    "\n",
    "print(\"All libraries imported successfully!\")\n",
    "print(f\"Working Directory: {Path.cwd()}\")\n",
    "print(f\"Random Seed: {SEED_VALUE}\")\n",
    "print(f\"PyTorch Version: {torch.__version__}\")\n",
    "print(f\"CUDA Available: {torch.cuda.is_available()}\")\n",
    "if torch.cuda.is_available():\n",
    "    print(f\"CUDA Device: {torch.cuda.get_device_name(0)}\")"
   ]
  },
  {
   "cell_type": "code",
   "execution_count": null,
   "id": "7060edc6-2fbf-4505-800a-4ef3ff8a6cb3",
   "metadata": {},
   "outputs": [],
   "source": []
  }
 ],
 "metadata": {
  "kernelspec": {
   "display_name": "Python (Higgs Project)",
   "language": "python",
   "name": "venv"
  },
  "language_info": {
   "codemirror_mode": {
    "name": "ipython",
    "version": 3
   },
   "file_extension": ".py",
   "mimetype": "text/x-python",
   "name": "python",
   "nbconvert_exporter": "python",
   "pygments_lexer": "ipython3",
   "version": "3.13.8"
  }
 },
 "nbformat": 4,
 "nbformat_minor": 5
}
